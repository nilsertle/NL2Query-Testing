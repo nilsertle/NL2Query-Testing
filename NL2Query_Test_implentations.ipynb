{
  "nbformat": 4,
  "nbformat_minor": 0,
  "metadata": {
    "colab": {
      "name": "NL2Query-Test-implentations.ipynb",
      "provenance": [],
      "collapsed_sections": [],
      "authorship_tag": "ABX9TyPW2Y2pVx3myQQQOREsgC/I",
      "include_colab_link": true
    },
    "kernelspec": {
      "name": "python3",
      "display_name": "Python 3"
    },
    "language_info": {
      "name": "python"
    }
  },
  "cells": [
    {
      "cell_type": "markdown",
      "metadata": {
        "id": "view-in-github",
        "colab_type": "text"
      },
      "source": [
        "<a href=\"https://colab.research.google.com/github/nilsertle/NL2Query-Testing/blob/main/NL2Query_Test_implentations.ipynb\" target=\"_parent\"><img src=\"https://colab.research.google.com/assets/colab-badge.svg\" alt=\"Open In Colab\"/></a>"
      ]
    },
    {
      "cell_type": "markdown",
      "source": [
        "# **Seq2sql**"
      ],
      "metadata": {
        "id": "JTL1WCjJ-QWH"
      }
    },
    {
      "cell_type": "code",
      "execution_count": null,
      "metadata": {
        "colab": {
          "base_uri": "https://localhost:8080/"
        },
        "id": "X6VLPq5a4Tia",
        "outputId": "69a00943-8404-4a9a-f02d-1e57e1b9d4d2"
      },
      "outputs": [
        {
          "output_type": "stream",
          "name": "stdout",
          "text": [
            "Looking in indexes: https://pypi.org/simple, https://us-python.pkg.dev/colab-wheels/public/simple/\n",
            "Requirement already satisfied: transformers in /usr/local/lib/python3.7/dist-packages (4.20.1)\n",
            "Requirement already satisfied: requests in /usr/local/lib/python3.7/dist-packages (from transformers) (2.23.0)\n",
            "Requirement already satisfied: tqdm>=4.27 in /usr/local/lib/python3.7/dist-packages (from transformers) (4.64.0)\n",
            "Requirement already satisfied: tokenizers!=0.11.3,<0.13,>=0.11.1 in /usr/local/lib/python3.7/dist-packages (from transformers) (0.12.1)\n",
            "Requirement already satisfied: pyyaml>=5.1 in /usr/local/lib/python3.7/dist-packages (from transformers) (6.0)\n",
            "Requirement already satisfied: numpy>=1.17 in /usr/local/lib/python3.7/dist-packages (from transformers) (1.21.6)\n",
            "Requirement already satisfied: packaging>=20.0 in /usr/local/lib/python3.7/dist-packages (from transformers) (21.3)\n",
            "Requirement already satisfied: filelock in /usr/local/lib/python3.7/dist-packages (from transformers) (3.7.1)\n",
            "Requirement already satisfied: regex!=2019.12.17 in /usr/local/lib/python3.7/dist-packages (from transformers) (2022.6.2)\n",
            "Requirement already satisfied: importlib-metadata in /usr/local/lib/python3.7/dist-packages (from transformers) (4.12.0)\n",
            "Requirement already satisfied: huggingface-hub<1.0,>=0.1.0 in /usr/local/lib/python3.7/dist-packages (from transformers) (0.8.1)\n",
            "Requirement already satisfied: typing-extensions>=3.7.4.3 in /usr/local/lib/python3.7/dist-packages (from huggingface-hub<1.0,>=0.1.0->transformers) (4.1.1)\n",
            "Requirement already satisfied: pyparsing!=3.0.5,>=2.0.2 in /usr/local/lib/python3.7/dist-packages (from packaging>=20.0->transformers) (3.0.9)\n",
            "Requirement already satisfied: zipp>=0.5 in /usr/local/lib/python3.7/dist-packages (from importlib-metadata->transformers) (3.8.0)\n",
            "Requirement already satisfied: urllib3!=1.25.0,!=1.25.1,<1.26,>=1.21.1 in /usr/local/lib/python3.7/dist-packages (from requests->transformers) (1.24.3)\n",
            "Requirement already satisfied: chardet<4,>=3.0.2 in /usr/local/lib/python3.7/dist-packages (from requests->transformers) (3.0.4)\n",
            "Requirement already satisfied: certifi>=2017.4.17 in /usr/local/lib/python3.7/dist-packages (from requests->transformers) (2022.6.15)\n",
            "Requirement already satisfied: idna<3,>=2.5 in /usr/local/lib/python3.7/dist-packages (from requests->transformers) (2.10)\n"
          ]
        }
      ],
      "source": [
        "! pip install transformers"
      ]
    },
    {
      "cell_type": "code",
      "source": [
        "!pip install sentencepiece"
      ],
      "metadata": {
        "colab": {
          "base_uri": "https://localhost:8080/"
        },
        "id": "5NgPLzda4njs",
        "outputId": "5245ee86-395d-4198-9f2b-ee32227b8267"
      },
      "execution_count": null,
      "outputs": [
        {
          "output_type": "stream",
          "name": "stdout",
          "text": [
            "Looking in indexes: https://pypi.org/simple, https://us-python.pkg.dev/colab-wheels/public/simple/\n",
            "Requirement already satisfied: sentencepiece in /usr/local/lib/python3.7/dist-packages (0.1.96)\n"
          ]
        }
      ]
    },
    {
      "cell_type": "code",
      "source": [
        "from transformers import AutoTokenizer, AutoModelWithLMHead\n",
        "tokenizer = AutoTokenizer.from_pretrained(\"dbernsohn/t5_wikisql_en2SQL\")\n",
        "model = AutoModelWithLMHead.from_pretrained(\"dbernsohn/t5_wikisql_en2SQL\")\n",
        "\n"
      ],
      "metadata": {
        "colab": {
          "base_uri": "https://localhost:8080/"
        },
        "id": "i7XKM2kl4U08",
        "outputId": "e15bd52c-21d7-45a0-8e68-e378c5bb60da"
      },
      "execution_count": null,
      "outputs": [
        {
          "output_type": "stream",
          "name": "stderr",
          "text": [
            "/usr/local/lib/python3.7/dist-packages/transformers/models/auto/modeling_auto.py:973: FutureWarning: The class `AutoModelWithLMHead` is deprecated and will be removed in a future version. Please use `AutoModelForCausalLM` for causal language models, `AutoModelForMaskedLM` for masked language models and `AutoModelForSeq2SeqLM` for encoder-decoder models.\n",
            "  FutureWarning,\n"
          ]
        }
      ]
    },
    {
      "cell_type": "code",
      "source": [
        "# query = \"what are the names of all the people in the USA?\"\n",
        "#query2 = \"How many player play football?\"\n",
        "#query2 = \"How many people have visited my website?\"\n",
        "query = \"Which colors has the indian flag?\"\n",
        "\n",
        "input_text = query\n",
        "features = tokenizer([input_text], return_tensors='pt')\n",
        "\n",
        "output = model.generate(input_ids=features['input_ids'], \n",
        "                        attention_mask=features['attention_mask'])\n",
        "\n",
        "tokenizer.decode(output[0])\n",
        "# Output: \"SELECT Name FROM table WHERE Country = USA\"\n",
        "\n"
      ],
      "metadata": {
        "colab": {
          "base_uri": "https://localhost:8080/",
          "height": 37
        },
        "id": "58Pk03fi4Wvn",
        "outputId": "a2230f28-62a3-4014-c063-09e7d1bb161d"
      },
      "execution_count": null,
      "outputs": [
        {
          "output_type": "execute_result",
          "data": {
            "text/plain": [
              "'<pad> <unk> Colors FROM table WHERE Indian Flag = Indian</s>'"
            ],
            "application/vnd.google.colaboratory.intrinsic+json": {
              "type": "string"
            }
          },
          "metadata": {},
          "execution_count": 53
        }
      ]
    },
    {
      "cell_type": "markdown",
      "source": [
        "# **Seq2sparql**"
      ],
      "metadata": {
        "id": "XU0XFLGk-aY2"
      }
    },
    {
      "cell_type": "code",
      "source": [
        "from transformers import AutoTokenizer, AutoModelForSeq2SeqLM\n",
        "\n",
        "tokenizer = AutoTokenizer.from_pretrained(\"yazdipour/text-to-sparql-t5-base\")\n",
        "\n",
        "model = AutoModelForSeq2SeqLM.from_pretrained(\"yazdipour/text-to-sparql-t5-base\")"
      ],
      "metadata": {
        "id": "1LUrOTFb-e1d"
      },
      "execution_count": null,
      "outputs": []
    },
    {
      "cell_type": "code",
      "source": [
        "query = \"How many states does the USA have?\"\n",
        "\n",
        "input_text = query\n",
        "features = tokenizer([input_text], return_tensors='pt')\n",
        "\n",
        "output = model.generate(input_ids=features['input_ids'], \n",
        "                        attention_mask=features['attention_mask'])\n",
        "\n",
        "tokenizer.decode(output[0])\n",
        "\n",
        "\"\"\"\n",
        "\n",
        "SELECT (COUNT(?s) AS ?rc)\n",
        "    WHERE {\n",
        "      GRAPH :graph\n",
        "        {?s a :class1 .}\n",
        "    }\n",
        "\n",
        "\"\"\"\n",
        "\"\"\"\n",
        "\n",
        "SELECT (COUNT(?sub) AS ?value)\n",
        "    \n",
        "\n",
        "\"\"\"\n",
        "\n"
      ],
      "metadata": {
        "colab": {
          "base_uri": "https://localhost:8080/",
          "height": 37
        },
        "id": "vEBrc_95bqYb",
        "outputId": "29013153-31b2-4d73-a79b-0e3ab568f133"
      },
      "execution_count": null,
      "outputs": [
        {
          "output_type": "execute_result",
          "data": {
            "text/plain": [
              "'<pad> select (COUNT(?sub) AS?value ) [?sub '"
            ],
            "application/vnd.google.colaboratory.intrinsic+json": {
              "type": "string"
            }
          },
          "metadata": {},
          "execution_count": 43
        }
      ]
    },
    {
      "cell_type": "markdown",
      "source": [
        "# **SPBERT**"
      ],
      "metadata": {
        "id": "GxqxIYaWeUmC"
      }
    },
    {
      "cell_type": "code",
      "source": [
        "from transformers import AutoTokenizer, AutoModelForMaskedLM\n",
        "\n",
        "tokenizer = AutoTokenizer.from_pretrained(\"razent/spbert-mlm-wso-base\")\n",
        "\n",
        "model = AutoModelForMaskedLM.from_pretrained(\"razent/spbert-mlm-wso-base\")"
      ],
      "metadata": {
        "id": "Gn70Jr31eW3m"
      },
      "execution_count": null,
      "outputs": []
    },
    {
      "cell_type": "code",
      "source": [
        "query = \"color of lake\"\n",
        "\n",
        "input_text = query\n",
        "features = tokenizer([input_text], return_tensors='pt')\n",
        "\n",
        "output = model.generate(input_ids=features['input_ids'], \n",
        "                        attention_mask=features['attention_mask'])\n",
        "\n",
        "tokenizer.decode(output[0])"
      ],
      "metadata": {
        "colab": {
          "base_uri": "https://localhost:8080/",
          "height": 54
        },
        "id": "gs-5I2mieXt_",
        "outputId": "4dd21a2e-f6e7-4357-d09c-2df54e0f7022"
      },
      "execution_count": null,
      "outputs": [
        {
          "output_type": "execute_result",
          "data": {
            "text/plain": [
              "'[CLS] color of lake [SEP] select distinct distinct distinct distinct distinct distinct distinct distinct from _ the _ other.'"
            ],
            "application/vnd.google.colaboratory.intrinsic+json": {
              "type": "string"
            }
          },
          "metadata": {},
          "execution_count": 32
        }
      ]
    }
  ]
}